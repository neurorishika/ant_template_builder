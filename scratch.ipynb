{
 "cells": [
  {
   "cell_type": "code",
   "execution_count": 1,
   "metadata": {},
   "outputs": [
    {
     "name": "stdout",
     "output_type": "stream",
     "text": [
      "NIBABEL VERSION: 5.1.0\n",
      "TARGET RESOLUTION: 0.8 μm x 0.8 μm x 0.8 μm\n"
     ]
    }
   ],
   "source": [
    "# import libraries\n",
    "\n",
    "import os # file handling\n",
    "import numpy as np # linear algebra\n",
    "import nibabel as nb # neuroimaging file handling\n",
    "import glob # file handling\n",
    "from scipy.ndimage import zoom # image processing\n",
    "import gc # garbage collection\n",
    "\n",
    "cleaned_data_path = 'cleaned_data/'\n",
    "resampled_data_path = 'resampled_data/'\n",
    "\n",
    "if not os.path.exists(resampled_data_path):\n",
    "    os.makedirs(resampled_data_path)\n",
    "\n",
    "# get target pixel dimension\n",
    "target_resolution = np.array((1.0, 1.0, 1.0)) * 0.8 # in microns\n",
    "\n",
    "# start cleaning\n",
    "print(\"NIBABEL VERSION:\", nb.__version__)\n",
    "print(f\"TARGET RESOLUTION: {target_resolution[0]} μm x {target_resolution[1]} μm x {target_resolution[2]} μm\")"
   ]
  },
  {
   "cell_type": "code",
   "execution_count": 2,
   "metadata": {},
   "outputs": [
    {
     "name": "stdout",
     "output_type": "stream",
     "text": [
      "Data file: cleaned_data/synA647_LL_L3_200724.nii.gz\n",
      "Pixel dimensions: 0.1289733499288559 μm x 0.1289733499288559 μm x 0.29493609070777893 μm\n",
      "Image dimensions: 3048 x 3046 pixels x 600 slices, 5570524800 voxels\n",
      "Resampling factor: 0.16 x 0.16 x 0.37\n"
     ]
    }
   ],
   "source": [
    "# load data from cleaned_data folder\n",
    "data_files = glob.glob(cleaned_data_path + '*.nii.gz')\n",
    "\n",
    "# set index for data_files\n",
    "index = 0\n",
    "full_data = nb.load(data_files[index])\n",
    "print(f\"Data file: {data_files[index]}\")\n",
    "\n",
    "# get pixel dimensions in microns (x, y, z)\n",
    "assert full_data.header.get_xyzt_units()[0] == 'micron', \"Pixel dimensions are not in microns\"\n",
    "pixel_dims = full_data.header['pixdim'][1:4]\n",
    "print(f\"Pixel dimensions: {pixel_dims[0]} μm x {pixel_dims[1]} μm x {pixel_dims[2]} μm\")\n",
    "\n",
    "# get image dims (x, y, z)\n",
    "image_dims = full_data.header['dim'][1:4]\n",
    "print(f\"Image dimensions: {image_dims[0]} x {image_dims[1]} pixels x {image_dims[2]} slices, {np.prod(image_dims)} voxels\")\n",
    "\n",
    "\n",
    "# get resampling factor for each dimension\n",
    "resampling_factor = np.divide(pixel_dims, target_resolution)\n",
    "# add a singleton dimension to account for the channel dimension\n",
    "resampling_factor = np.append(resampling_factor, 1)\n",
    "print(f\"Resampling factor: {resampling_factor[0]:.2f} x {resampling_factor[1]:.2f} x {resampling_factor[2]:.2f}\")"
   ]
  },
  {
   "cell_type": "code",
   "execution_count": 3,
   "metadata": {},
   "outputs": [],
   "source": [
    "# get data in dtype in int16\n",
    "data_array = full_data.get_fdata(dtype=np.float32)"
   ]
  },
  {
   "cell_type": "code",
   "execution_count": 4,
   "metadata": {},
   "outputs": [],
   "source": [
    "# resample data using scipy bilinear interpolation\n",
    "resampled_data_array = zoom(data_array, resampling_factor, order=1)"
   ]
  },
  {
   "cell_type": "code",
   "execution_count": 5,
   "metadata": {},
   "outputs": [
    {
     "name": "stdout",
     "output_type": "stream",
     "text": [
      "New image dimensions: 491 x 491 pixels x 221 slices, 53278901 voxels\n",
      "New pixel dimensions: 0.80 μm x 0.80 μm x 0.80 μm\n"
     ]
    }
   ],
   "source": [
    "# get new image dimensions\n",
    "new_image_dims = resampled_data_array.shape[0:3]\n",
    "print(f\"New image dimensions: {new_image_dims[0]} x {new_image_dims[1]} pixels x {new_image_dims[2]} slices, {np.prod(new_image_dims)} voxels\")\n",
    "\n",
    "# get new pixel dimensions\n",
    "new_pixel_dims = np.multiply(pixel_dims, np.divide(image_dims, new_image_dims))\n",
    "print(f\"New pixel dimensions: {new_pixel_dims[0]:.2f} μm x {new_pixel_dims[1]:.2f} μm x {new_pixel_dims[2]:.2f} μm\")"
   ]
  },
  {
   "cell_type": "code",
   "execution_count": 6,
   "metadata": {},
   "outputs": [],
   "source": [
    "# normalize data to [0, 1]\n",
    "resampled_data_array = (resampled_data_array - np.min(resampled_data_array)) / (np.max(resampled_data_array) - np.min(resampled_data_array))\n",
    "\n",
    "# convert to int16\n",
    "resampled_data_array = (resampled_data_array * 65535).astype(np.uint16)"
   ]
  },
  {
   "cell_type": "code",
   "execution_count": 7,
   "metadata": {},
   "outputs": [],
   "source": [
    "# define as nifti object\n",
    "\n",
    "# new affine\n",
    "new_affine = np.copy(full_data.affine)\n",
    "# modify affine to reflect new pixel dimensions\n",
    "new_affine = new_affine @ np.diag(np.append(new_pixel_dims, 1.0))\n",
    "\n",
    "# new header\n",
    "new_header = full_data.header.copy()\n",
    "# modify header to reflect new dimensions\n",
    "new_header['pixdim'][1:4] = target_resolution\n",
    "new_header['dim'][1:4] = data_array.shape[0:3]\n",
    "\n",
    "# save resampled data\n",
    "resampled_data = nb.Nifti1Image(resampled_data_array, new_affine, new_header)\n",
    "nb.save(resampled_data, resampled_data_path + f\"resampled_{index}.nii.gz\")\n",
    "\n",
    "# # initialize garbage collection\n",
    "# del resampled_data_array, data_array, resampled_data, full_data, new_affine, new_header, new_image_dims, new_pixel_dims, pixel_dims, resampling_factor, target_resolution, data_files\n",
    "\n",
    "# # force garbage collection\n",
    "# import gc\n",
    "# gc.collect()\n"
   ]
  },
  {
   "cell_type": "code",
   "execution_count": 10,
   "metadata": {},
   "outputs": [
    {
     "data": {
      "application/vnd.jupyter.widget-view+json": {
       "model_id": "f0d7c8521fa9444dafb44d69c9a0b5dc",
       "version_major": 2,
       "version_minor": 0
      },
      "text/plain": [
       "interactive(children=(IntSlider(value=0, description='z', max=220), Output()), _dom_classes=('widget-interact'…"
      ]
     },
     "metadata": {},
     "output_type": "display_data"
    },
    {
     "data": {
      "application/vnd.jupyter.widget-view+json": {
       "model_id": "efa5249ed7c84c24ae8af4875a77bd88",
       "version_major": 2,
       "version_minor": 0
      },
      "text/plain": [
       "interactive(children=(IntSlider(value=0, description='z', max=220), Output()), _dom_classes=('widget-interact'…"
      ]
     },
     "metadata": {},
     "output_type": "display_data"
    },
    {
     "data": {
      "text/plain": [
       "<function __main__.f(z)>"
      ]
     },
     "execution_count": 10,
     "metadata": {},
     "output_type": "execute_result"
    }
   ],
   "source": [
    "#view resampled data with a slider for z slices\n",
    "from ipywidgets import interact, interactive, fixed, interact_manual\n",
    "import ipywidgets as widgets\n",
    "import matplotlib.pyplot as plt\n",
    "import matplotlib.image as mpimg\n",
    "minval = np.min(resampled_data_array[:,:,:,0])\n",
    "maxval = np.max(resampled_data_array[:,:,:,0])\n",
    "def f(z):\n",
    "    plt.imshow(np.flip(resampled_data_array,axis=0)[:,:,z,0].T, cmap='gray', vmin=minval, vmax=maxval)\n",
    "    plt.colorbar()\n",
    "    plt.show()\n",
    "\n",
    "interact(f, z=widgets.IntSlider(min=0,max=resampled_data_array.shape[2]-1,step=1,value=0))\n",
    "\n",
    "def f(z):\n",
    "    plt.imshow(resampled_data_array[:,:,z,0].T, cmap='gray', vmin=minval, vmax=maxval)\n",
    "    plt.colorbar()\n",
    "    plt.show()\n",
    "\n",
    "interact(f, z=widgets.IntSlider(min=0,max=resampled_data_array.shape[2]-1,step=1,value=0))"
   ]
  },
  {
   "cell_type": "code",
   "execution_count": 38,
   "metadata": {},
   "outputs": [
    {
     "data": {
      "text/plain": [
       "65535"
      ]
     },
     "execution_count": 38,
     "metadata": {},
     "output_type": "execute_result"
    },
    {
     "ename": "",
     "evalue": "",
     "output_type": "error",
     "traceback": [
      "\u001b[1;31mThe Kernel crashed while executing code in the the current cell or a previous cell. Please review the code in the cell(s) to identify a possible cause of the failure. Click <a href='https://aka.ms/vscodeJupyterKernelCrash'>here</a> for more info. View Jupyter <a href='command:jupyter.viewOutput'>log</a> for further details."
     ]
    }
   ],
   "source": [
    "maxval"
   ]
  },
  {
   "cell_type": "code",
   "execution_count": null,
   "metadata": {},
   "outputs": [],
   "source": []
  }
 ],
 "metadata": {
  "kernelspec": {
   "display_name": ".venv",
   "language": "python",
   "name": "python3"
  },
  "language_info": {
   "codemirror_mode": {
    "name": "ipython",
    "version": 3
   },
   "file_extension": ".py",
   "mimetype": "text/x-python",
   "name": "python",
   "nbconvert_exporter": "python",
   "pygments_lexer": "ipython3",
   "version": "3.10.12"
  },
  "orig_nbformat": 4
 },
 "nbformat": 4,
 "nbformat_minor": 2
}
