{
 "cells": [
  {
   "cell_type": "markdown",
   "metadata": {},
   "source": [
    "# Segementation Comparision"
   ]
  },
  {
   "cell_type": "markdown",
   "metadata": {},
   "source": [
    "## Get Data and Labels"
   ]
  },
  {
   "cell_type": "code",
   "execution_count": 1,
   "metadata": {},
   "outputs": [],
   "source": [
    "import os\n",
    "from joblib import Parallel, delayed\n",
    "import numpy as np\n",
    "import nrrd\n",
    "import matplotlib.pyplot as plt\n"
   ]
  },
  {
   "cell_type": "code",
   "execution_count": 2,
   "metadata": {},
   "outputs": [
    {
     "name": "stdout",
     "output_type": "stream",
     "text": [
      "Found 40 files\n"
     ]
    }
   ],
   "source": [
    "results_dir = '../../results/obiroi_brain_20231205_1133/syn'\n",
    "# get all the files in the results directory\n",
    "files = os.listdir(results_dir)\n",
    "# keep only warp files\n",
    "files = [f for f in files if f.endswith('Warp.nii.gz')]\n",
    "# remove the inverse warp files\n",
    "files = [f for f in files if not f.endswith('InverseWarp.nii.gz')]\n",
    "print('Found {} files'.format(len(files)))"
   ]
  },
  {
   "cell_type": "code",
   "execution_count": 3,
   "metadata": {},
   "outputs": [],
   "source": [
    "processed_data_dir = 'whole_brain/processed_data'\n",
    "# check if the processed data directory exists\n",
    "if not os.path.exists(processed_data_dir):\n",
    "    print('Directory {} does not exist'.format(processed_data_dir))\n",
    "    exit()\n",
    "else:\n",
    "    print('Found directory {}'.format(processed_data_dir))"
   ]
  },
  {
   "cell_type": "code",
   "execution_count": 4,
   "metadata": {},
   "outputs": [],
   "source": [
    "# get the jacobian of all the warp files (parallel using joblib)\n",
    "\n",
    "n_cpus = os.cpu_count()\n",
    "print('Using {} cpus'.format(n_cpus))\n",
    "\n",
    "def get_jacobian(f):\n",
    "    file_to_process = os.path.join(results_dir, f)\n",
    "    processed_file = os.path.join(processed_data_dir, os.path.basename(f)[:-7] + '_logjacobian.nrrd')\n",
    "    \n",
    "    # if the file already exists, skip it\n",
    "    if os.path.exists(processed_file):\n",
    "        return processed_file\n",
    "    jacobian_command = 'CreateJacobianDeterminantImage 3 {} {} 1 1'.format(file_to_process, processed_file)\n",
    "    os.system(jacobian_command)\n",
    "    return processed_file\n",
    "\n",
    "jacobian_files = Parallel(n_jobs=n_cpus)(delayed(get_jacobian)(f) for f in files)\n",
    "\n",
    "print('Found {} jacobian files'.format(len(jacobian_files)))\n",
    "for f in jacobian_files:\n",
    "    print(f)"
   ]
  },
  {
   "cell_type": "code",
   "execution_count": 6,
   "metadata": {},
   "outputs": [
    {
     "name": "stdout",
     "output_type": "stream",
     "text": [
      "Read file whole_brain/processed_data/complete_synA647_DF_C07_mirror_resampled_0.8x0.8x0Warp_logjacobian.nrrd\n",
      "Read file whole_brain/processed_data/complete_synA647_LL_L4_200724_resampled_0.8x0.8x0Warp_logjacobian.nrrd\n",
      "Read file whole_brain/processed_data/complete_synA647_LL_201123_C22_mirror_resampled_0.8x0.8x0Warp_logjacobian.nrrd\n",
      "Read file whole_brain/processed_data/complete_synA647_DF_B05_C_mirror_resampled_0.8x0.8x0Warp_logjacobian.nrrd\n",
      "Read file whole_brain/processed_data/complete_synA647_DF_C01_resampled_0.8x0.8x0Warp_logjacobian.nrrd\n",
      "Read file whole_brain/processed_data/complete_synA647_LL_201213_211_mirror_resampled_0.8x0.8x0Warp_logjacobian.nrrd\n",
      "Read file whole_brain/processed_data/complete_synA647_LL_15_220217_resampled_0.8x0.8x0Warp_logjacobian.nrrd\n",
      "Read file whole_brain/processed_data/complete_synA647_DF_B03_D_mirror_resampled_0.8x0.8x0Warp_logjacobian.nrrd\n",
      "Read file whole_brain/processed_data/complete_synA647_DF_C04-fixed_resampled_0.8x0.8x0Warp_logjacobian.nrrd\n",
      "Read file whole_brain/processed_data/complete_synA647_LL_14_220217_resampled_0.8x0.8x0Warp_logjacobian.nrrd\n",
      "Read file whole_brain/processed_data/complete_synA647_LL_1-41_mirror_resampled_0.8x0.8x0Warp_logjacobian.nrrd\n",
      "Read file whole_brain/processed_data/complete_synA647_LL_201120_B11_resampled_0.8x0.8x0Warp_logjacobian.nrrd\n",
      "Read file whole_brain/processed_data/complete_synA647_LL_B19_200916_resampled_0.8x0.8x0Warp_logjacobian.nrrd\n",
      "Read file whole_brain/processed_data/complete_synA647_LL_10_220216_resampled_0.8x0.8x0Warp_logjacobian.nrrd\n",
      "Read file whole_brain/processed_data/complete_synA647_LL_4_220214_resampled_0.8x0.8x0Warp_logjacobian.nrrd\n",
      "Read file whole_brain/processed_data/complete_synA647_DF_B03_A_mirror_resampled_0.8x0.8x0Warp_logjacobian.nrrd\n",
      "Read file whole_brain/processed_data/complete_synA647_DF_C05_mirror_resampled_0.8x0.8x0Warp_logjacobian.nrrd\n",
      "Read file whole_brain/processed_data/complete_synA647_LL_L3_200724_mirror_resampled_0.8x0.8x0Warp_logjacobian.nrrd\n",
      "Read file whole_brain/processed_data/complete_synA647_DF_B03_B_resampled_0.8x0.8x0Warp_logjacobian.nrrd\n",
      "Read file whole_brain/processed_data/complete_synA647_LL_201213_231_mirror_resampled_0.8x0.8x0Warp_logjacobian.nrrd\n",
      "Read file whole_brain/processed_data/complete_synA647_LL_201213_263_resampled_0.8x0.8x0Warp_logjacobian.nrrd\n",
      "Read file whole_brain/processed_data/complete_synA647_LL_2-41_resampled_0.8x0.8x0Warp_logjacobian.nrrd\n",
      "Read file whole_brain/processed_data/complete_synA647_LL_B34_200917_mirror_resampled_0.8x0.8x0Warp_logjacobian.nrrd\n",
      "Read file whole_brain/processed_data/complete_synA647_LL_L8_200724_resampled_0.8x0.8x0Warp_logjacobian.nrrd\n",
      "Read file whole_brain/processed_data/complete_synA647_LL_L12_200727_resampled_0.8x0.8x0Warp_logjacobian.nrrd\n",
      "Read file whole_brain/processed_data/complete_synA647_LL_B22_200917_mirror_resampled_0.8x0.8x0Warp_logjacobian.nrrd\n",
      "Read file whole_brain/processed_data/complete_synA647_DF_B04_B_mirror_resampled_0.8x0.8x0Warp_logjacobian.nrrd\n",
      "Read file whole_brain/processed_data/complete_synA647_LL_6_220216_resampled_0.8x0.8x0Warp_logjacobian.nrrd\n",
      "Read file whole_brain/processed_data/complete_synA647_LL_2-51_mirror_resampled_0.8x0.8x0Warp_logjacobian.nrrd\n",
      "Read file whole_brain/processed_data/complete_synA647_LL_B26_200917_mirror_resampled_0.8x0.8x0Warp_logjacobian.nrrd\n",
      "Read file whole_brain/processed_data/complete_synA647_DF_B16_resampled_0.8x0.8x0Warp_logjacobian.nrrd\n",
      "Read file whole_brain/processed_data/complete_synA647_LL_201212_131_mirror_resampled_0.8x0.8x0Warp_logjacobian.nrrd\n",
      "Read file whole_brain/processed_data/complete_synA647_DF_C08_resampled_0.8x0.8x0Warp_logjacobian.nrrd\n",
      "Read file whole_brain/processed_data/complete_synA647_LL_201120_B21_resampled_0.8x0.8x0Warp_logjacobian.nrrd\n",
      "Read file whole_brain/processed_data/complete_synA647_DF_B01_resampled_0.8x0.8x0Warp_logjacobian.nrrd\n",
      "Read file whole_brain/processed_data/complete_synA647_DF_B14_resampled_0.8x0.8x0Warp_logjacobian.nrrd\n",
      "Read file whole_brain/processed_data/complete_synA647_LL_201120_C21_mirror_resampled_0.8x0.8x0Warp_logjacobian.nrrd\n",
      "Read file whole_brain/processed_data/complete_synA647_LL_1-33_resampled_0.8x0.8x0Warp_logjacobian.nrrd\n",
      "Read file whole_brain/processed_data/complete_synA647_LL_201213_253_mirror_resampled_0.8x0.8x0Warp_logjacobian.nrrd\n",
      "Read file whole_brain/processed_data/complete_synA647_LL_201213_242_mirror_resampled_0.8x0.8x0Warp_logjacobian.nrrd\n"
     ]
    }
   ],
   "source": [
    "# read the jacobian files using pynrrd\n",
    "jacobians = []\n",
    "for f in jacobian_files:\n",
    "    print('Read file {}'.format(f))\n",
    "    j, _ = nrrd.read(f)\n",
    "    jacobians.append(j)"
   ]
  },
  {
   "cell_type": "code",
   "execution_count": 7,
   "metadata": {},
   "outputs": [],
   "source": [
    "# get the standard deviation of the jacobians\n",
    "\n",
    "mean_jacobian = np.mean(jacobians, axis=0)\n",
    "std_jacobian = np.std(jacobians, axis=0)\n",
    "# get the header of the first file\n",
    "header = nrrd.read_header(jacobian_files[0])\n",
    "# save the mean jacobian as a nrrd file\n",
    "nrrd.write('whole_brain/mean_logjacobian.nrrd', mean_jacobian, header)\n",
    "# save the sd jacobian as a nrrd file\n",
    "nrrd.write('whole_brain/sd_logjacobian.nrrd', std_jacobian, header)\n",
    "print('Saved mean and sd jacobian files')"
   ]
  },
  {
   "cell_type": "code",
   "execution_count": 8,
   "metadata": {},
   "outputs": [],
   "source": [
    "jacobian_values = np.array(jacobians).flatten()"
   ]
  },
  {
   "cell_type": "code",
   "execution_count": 9,
   "metadata": {},
   "outputs": [],
   "source": [
    "mean_val = np.mean(jacobian_values)\n",
    "std_val = np.std(jacobian_values)\n",
    "CI_95 = np.percentile(jacobian_values, [2.5, 97.5])"
   ]
  },
  {
   "cell_type": "code",
   "execution_count": 10,
   "metadata": {},
   "outputs": [
    {
     "name": "stdout",
     "output_type": "stream",
     "text": [
      "Mean log jacobian: -0.0077\n",
      "SD log jacobian: 0.1228\n",
      "95% CI: [-0.2871, 0.2552]\n"
     ]
    }
   ],
   "source": [
    "print('Mean log jacobian: {:.4f}'.format(mean_val))\n",
    "print('SD log jacobian: {:.4f}'.format(std_val))\n",
    "print('95% CI: [{:.4f}, {:.4f}]'.format(CI_95[0], CI_95[1]))"
   ]
  },
  {
   "cell_type": "code",
   "execution_count": 11,
   "metadata": {},
   "outputs": [
    {
     "data": {
      "image/png": "[encoded data removed]",
      "text/plain": [
       "<Figure size 400x300 with 1 Axes>"
      ]
     },
     "metadata": {},
     "output_type": "display_data"
    },
    {
     "ename": "",
     "evalue": "",
     "output_type": "error",
     "traceback": [
      "\u001b[1;31mThe Kernel crashed while executing code in the the current cell or a previous cell. Please review the code in the cell(s) to identify a possible cause of the failure. Click <a href='https://aka.ms/vscodeJupyterKernelCrash'>here</a> for more info. View Jupyter <a href='command:jupyter.viewOutput'>log</a> for further details."
     ]
    }
   ],
   "source": [
    "# get a histogram of the jacobians (dont show the plot)\n",
    "\n",
    "# turn off interactive mode\n",
    "plt.ioff()\n",
    "\n",
    "plt.figure(figsize=(4, 3))\n",
    "plt.hist(jacobian_values, bins=70, color='steelblue', histtype='step', linewidth=2)\n",
    "# add a vertical line at the mean with text\n",
    "plt.axvline(x=mean_val, color='k', linestyle='-', label='Mean')\n",
    "# plt.text(mean_val - 0.2, 1e5, '{:.2f}'.format(mean_val), color='k', rotation=90, verticalalignment='center')\n",
    "# add a vertical line at the CI 95% with text\n",
    "plt.axvline(x=CI_95[0], color='darkgrey', linestyle='--')\n",
    "# plt.text(CI_95[0] - 0.2, 1e5, '{:.2f}'.format(CI_95[0]), color='darkgrey', rotation=90, verticalalignment='center')\n",
    "plt.axvline(x=CI_95[1], color='darkgrey', linestyle='--', label='95% CI')\n",
    "# plt.text(CI_95[1] - 0.2, 1e5, '{:.2f}'.format(CI_95[1]), color='darkgrey', rotation=90, verticalalignment='center')\n",
    "# add text at -1 and 1 (contracting and expanding)\n",
    "plt.text(-1.2, 1e8, 'Contracting', color='k', verticalalignment='center', horizontalalignment='center')\n",
    "plt.text(1.2, 1e8, 'Expanding', color='k', verticalalignment='center', horizontalalignment='center')\n",
    "plt.xlabel('Log(Jacobian)')\n",
    "plt.yscale('log')\n",
    "plt.yticks([])\n",
    "plt.legend(loc='center right', frameon=False)\n",
    "plt.tight_layout()\n",
    "plt.savefig('whole_brain/jacobian_histogram.png', dpi=300)\n",
    "plt.close()"
   ]
  }
 ],
 "metadata": {
  "kernelspec": {
   "display_name": "Python 3 (ipykernel)",
   "language": "python",
   "name": "python3"
  },
  "language_info": {
   "codemirror_mode": {
    "name": "ipython",
    "version": 3
   },
   "file_extension": ".py",
   "mimetype": "text/x-python",
   "name": "python",
   "nbconvert_exporter": "python",
   "pygments_lexer": "ipython3",
   "version": "3.10.12"
  }
 },
 "nbformat": 4,
 "nbformat_minor": 2
}
